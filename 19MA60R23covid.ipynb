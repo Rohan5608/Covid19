{
 "cells": [
  {
   "cell_type": "code",
   "execution_count": 1,
   "metadata": {
    "_cell_guid": "79c7e3d0-c299-4dcb-8224-4455121ee9b0",
    "_uuid": "d629ff2d2480ee46fbb7e2d37f6b5fab8052498a"
   },
   "outputs": [],
   "source": [
    "import seaborn as sns\n",
    "import matplotlib.pyplot as plt\n",
    "from sklearn.metrics import confusion_matrix, cohen_kappa_score\n",
    "import sys\n",
    "import numpy as np\n",
    "import pandas as pd\n",
    "import torchvision\n",
    "import torch.nn as nn\n",
    "from tqdm import tqdm, notebook\n",
    "from PIL import Image, ImageFile\n",
    "from torch.utils.data import Dataset\n",
    "from torch import optim, cuda\n",
    "import torch\n",
    "from torchvision import transforms\n",
    "import os\n",
    "from sklearn.model_selection import train_test_split\n",
    "from torch.utils.data.sampler import SubsetRandomSampler\n",
    "ImageFile.LOAD_TRUNCATED_IMAGES = True\n",
    "from timeit import default_timer as timer\n",
    "import scipy as sp\n",
    "from functools import partial\n",
    "from sklearn import metrics\n",
    "from collections import Counter\n",
    "import cv2\n",
    "import random\n",
    "from os.path import isfile\n",
    "import math\n",
    "import torch.nn.functional as F\n",
    "import scipy.misc\n",
    "from skimage.transform import resize\n",
    "import numpy as np\n",
    "import gc\n",
    "import pickle\n",
    "from sklearn.utils import shuffle"
   ]
  },
  {
   "cell_type": "code",
   "execution_count": 2,
   "metadata": {},
   "outputs": [
    {
     "name": "stdout",
     "output_type": "stream",
     "text": [
      "True\n"
     ]
    }
   ],
   "source": [
    "print(torch.cuda.is_available())\n",
    "if(torch.cuda.is_available()):\n",
    "    device = torch.device(\"cuda\")\n",
    "else:\n",
    "    device = torch.device(\"cpu\")"
   ]
  },
  {
   "cell_type": "code",
   "execution_count": 3,
   "metadata": {},
   "outputs": [],
   "source": [
    "def seed_everything(seed):\n",
    "    random.seed(seed)\n",
    "    os.environ['PYTHONHASHSEED'] = str(seed)\n",
    "    np.random.seed(seed)\n",
    "    torch.manual_seed(seed)\n",
    "    torch.cuda.manual_seed(seed)\n",
    "    torch.backends.cudnn.deterministic = True\n",
    "seed_everything(2020)"
   ]
  },
  {
   "cell_type": "code",
   "execution_count": 4,
   "metadata": {},
   "outputs": [],
   "source": [
    "learning_rate=1e-5\n",
    "epochs=100\n",
    "num_workers=2\n",
    "batch_size=16\n",
    "IMG_SIZE    = 256"
   ]
  },
  {
   "cell_type": "code",
   "execution_count": 5,
   "metadata": {},
   "outputs": [],
   "source": [
    "path= \"../input/covid19chestxray/\"\n",
    "def cleanUp(Df):\n",
    "    Df[\"Present\"]=0\n",
    "    for idx in Df.index:\n",
    "        name=Df[\"Image Name\"][idx]\n",
    "        if(isfile(path+\"images/images/\"+name)):\n",
    "            Df[\"Present\"][idx]=1\n",
    "        else:\n",
    "            Df[\"Present\"][idx]=0\n",
    "    Df=Df[Df[\"Present\"]==1]\n",
    "    return Df"
   ]
  },
  {
   "cell_type": "code",
   "execution_count": 6,
   "metadata": {},
   "outputs": [
    {
     "name": "stderr",
     "output_type": "stream",
     "text": [
      "/opt/conda/lib/python3.7/site-packages/ipykernel_launcher.py:7: SettingWithCopyWarning: \n",
      "A value is trying to be set on a copy of a slice from a DataFrame\n",
      "\n",
      "See the caveats in the documentation: https://pandas.pydata.org/pandas-docs/stable/user_guide/indexing.html#returning-a-view-versus-a-copy\n",
      "  import sys\n",
      "/opt/conda/lib/python3.7/site-packages/ipykernel_launcher.py:9: SettingWithCopyWarning: \n",
      "A value is trying to be set on a copy of a slice from a DataFrame\n",
      "\n",
      "See the caveats in the documentation: https://pandas.pydata.org/pandas-docs/stable/user_guide/indexing.html#returning-a-view-versus-a-copy\n",
      "  if __name__ == '__main__':\n"
     ]
    }
   ],
   "source": [
    "trainDf=pd.read_csv(path+\"Train_Combined.csv\")\n",
    "testDf=pd.read_csv(path+\"Test_Combined.csv\")\n",
    "trainDf=cleanUp(trainDf)\n",
    "testDf=cleanUp(testDf)"
   ]
  },
  {
   "cell_type": "code",
   "execution_count": 7,
   "metadata": {},
   "outputs": [],
   "source": [
    "trainDf=trainDf.rename(columns={\"Image Name\":\"Path\"})"
   ]
  },
  {
   "cell_type": "code",
   "execution_count": 8,
   "metadata": {},
   "outputs": [],
   "source": [
    "chexpertPath=\"../input/syde522pjte/CheXpert-v1.0-small/\"\n",
    "trainDf2=pd.read_csv(chexpertPath+\"train.csv\")\n",
    "trainDf2=trainDf2[(trainDf2[\"Frontal/Lateral\"]==\"Frontal\")  & (trainDf2[\"No Finding\"]==1)]\n",
    "trainDf2=trainDf2.sample(168,replace=False)\n",
    "trainDf2=trainDf2.reset_index(drop=True)"
   ]
  },
  {
   "cell_type": "code",
   "execution_count": 9,
   "metadata": {},
   "outputs": [
    {
     "name": "stderr",
     "output_type": "stream",
     "text": [
      "/opt/conda/lib/python3.7/site-packages/ipykernel_launcher.py:2: SettingWithCopyWarning: \n",
      "A value is trying to be set on a copy of a slice from a DataFrame.\n",
      "Try using .loc[row_indexer,col_indexer] = value instead\n",
      "\n",
      "See the caveats in the documentation: https://pandas.pydata.org/pandas-docs/stable/user_guide/indexing.html#returning-a-view-versus-a-copy\n",
      "  \n",
      "/opt/conda/lib/python3.7/site-packages/ipykernel_launcher.py:4: SettingWithCopyWarning: \n",
      "A value is trying to be set on a copy of a slice from a DataFrame.\n",
      "Try using .loc[row_indexer,col_indexer] = value instead\n",
      "\n",
      "See the caveats in the documentation: https://pandas.pydata.org/pandas-docs/stable/user_guide/indexing.html#returning-a-view-versus-a-copy\n",
      "  after removing the cwd from sys.path.\n"
     ]
    }
   ],
   "source": [
    "Df1=trainDf[[\"Path\"]]\n",
    "Df1[\"Label\"]=1\n",
    "Df2=trainDf2[[\"Path\"]]\n",
    "Df2[\"Label\"]=0\n",
    "Df=Df1.append(Df2)\n",
    "Df=shuffle(Df)\n",
    "Df=Df.reset_index(drop=True)\n"
   ]
  },
  {
   "cell_type": "code",
   "execution_count": 10,
   "metadata": {},
   "outputs": [],
   "source": [
    "Covid19Path= \"../input/covid19chestxray/images/images/\"\n",
    "chexpertImagePath=\"../input/syde522pjte/\"\n",
    "def expand_path(p):\n",
    "    p = str(p)\n",
    "    if isfile(Covid19Path + p ):\n",
    "        return (Covid19Path+p)\n",
    "    if isfile(chexpertImagePath + p):\n",
    "        return (chexpertImagePath+p)\n",
    "    return False"
   ]
  },
  {
   "cell_type": "code",
   "execution_count": 11,
   "metadata": {},
   "outputs": [],
   "source": [
    "traintransforms = transforms.Compose([\n",
    "                #transforms.Grayscale(num_output_channels=1),\n",
    "                transforms.Resize((224,224)),\n",
    "                transforms.RandomHorizontalFlip(),\n",
    "                transforms.RandomVerticalFlip(),\n",
    "                transforms.ToTensor()\n",
    "                ])\n",
    "\n",
    "testtransforms = transforms.Compose([\n",
    "                #transforms.Grayscale(num_output_channels=1),\n",
    "                transforms.Resize((224,224)),\n",
    "                transforms.ToTensor()\n",
    "                ])\n",
    "class CovidDataset(Dataset):\n",
    "    def __init__(self, data, transform):\n",
    "        self.data = data\n",
    "        self.transform = transform\n",
    "    def __len__(self):\n",
    "        return len(self.data)\n",
    "\n",
    "    def __getitem__(self, idx):\n",
    "        img_name=expand_path(self.data.loc[idx, \"Path\"])\n",
    "        image=Image.open(img_name)\n",
    "        image=image.convert('RGB')\n",
    "        image=self.transform(image)\n",
    "        label=self.data.loc[idx, \"Label\"]\n",
    "        return image,label\n",
    "    "
   ]
  },
  {
   "cell_type": "code",
   "execution_count": 12,
   "metadata": {},
   "outputs": [],
   "source": [
    "testDf[\"Path\"]=testDf[\"Image Name\"]\n",
    "testDf[\"Label\"]=testDf[\"COVID-19\"]\n",
    "testDf=testDf[[\"Path\",\"Label\"]]"
   ]
  },
  {
   "cell_type": "code",
   "execution_count": 13,
   "metadata": {},
   "outputs": [],
   "source": [
    "trainSet=CovidDataset(data=Df,transform=traintransforms)\n",
    "trainLoader=torch.utils.data.DataLoader(trainSet, batch_size=batch_size, num_workers=num_workers)\n",
    "testSet=CovidDataset(data=testDf,transform=testtransforms)\n",
    "testLoader=torch.utils.data.DataLoader(testSet, batch_size=batch_size, num_workers=num_workers)"
   ]
  },
  {
   "cell_type": "code",
   "execution_count": 14,
   "metadata": {},
   "outputs": [
    {
     "name": "stderr",
     "output_type": "stream",
     "text": [
      "Downloading: \"https://download.pytorch.org/models/resnext101_32x8d-8ba56ff5.pth\" to /root/.cache/torch/checkpoints/resnext101_32x8d-8ba56ff5.pth\n"
     ]
    },
    {
     "data": {
      "application/vnd.jupyter.widget-view+json": {
       "model_id": "c3ecf6b59e6f47c99a5b4d184dac3370",
       "version_major": 2,
       "version_minor": 0
      },
      "text/plain": [
       "HBox(children=(FloatProgress(value=0.0, max=356082095.0), HTML(value='')))"
      ]
     },
     "metadata": {},
     "output_type": "display_data"
    },
    {
     "name": "stdout",
     "output_type": "stream",
     "text": [
      "\n"
     ]
    }
   ],
   "source": [
    "baseModel =torchvision.models.resnext101_32x8d(pretrained=True, progress=True)"
   ]
  },
  {
   "cell_type": "code",
   "execution_count": 15,
   "metadata": {},
   "outputs": [],
   "source": [
    "def train(model,learningRate,dataLoader,cvLoader,n_epochs=2):\n",
    "        criterion=nn.BCEWithLogitsLoss()\n",
    "        optimizer=optim.Adam(model.parameters(),lr=learningRate,weight_decay=1e-5)\n",
    "        scheduler = torch.optim.lr_scheduler.StepLR(optimizer, step_size=5, gamma=0.5)\n",
    "        save_file_name='covidnetweight.pth'\n",
    "        max_epochs_stop=5\n",
    "        print_every=1\n",
    "        #model.epochs=0\n",
    "        model=model.to(device)\n",
    "        ct=0\n",
    "        for child in model.children():\n",
    "            if ct < 2:\n",
    "                for param in child.parameters():\n",
    "                    param.requires_grad = False\n",
    "            else:\n",
    "                for param in child.parameters():\n",
    "                    param.requires_grad = True\n",
    "            ct=ct+1\n",
    "        optimizer=optim.Adam(filter(lambda p: p.requires_grad, model.parameters()),lr=learningRate,weight_decay=1e-5)\n",
    "        scheduler = torch.optim.lr_scheduler.StepLR(optimizer, step_size=25, gamma=0.95)\n",
    "        epochs_no_improve = 0\n",
    "        valid_loss_min = np.Inf\n",
    "        valid_max_acc = 0\n",
    "        history = []\n",
    "        try:\n",
    "            print(f'Model has been trained for: {model.epochs} epochs.\\n')\n",
    "        except:\n",
    "            model.epochs = 0\n",
    "            print(f'Starting Training from Scratch.\\n')\n",
    "        overall_start = timer()\n",
    "        for epoch in (range(n_epochs)):\n",
    "            # keep track of training and validation loss each epoch\n",
    "            if(epoch==8):\n",
    "                for param in model.parameters():\n",
    "                        param.requires_grad = True \n",
    "                optimizer=optim.Adam(filter(lambda p: p.requires_grad, model.parameters()),lr=learningRate,weight_decay=1e-5)\n",
    "                scheduler = torch.optim.lr_scheduler.StepLR(optimizer, step_size=25, gamma=0.95)\n",
    "            train_loss = 0.0\n",
    "            valid_loss = 0.0\n",
    "\n",
    "            train_mse = 0\n",
    "            valid_mse = 0\n",
    "\n",
    "            # Set to training\n",
    "            model.train()\n",
    "            start = timer()\n",
    "\n",
    "            # Training loop\n",
    "            for ii, (data, target) in enumerate((dataLoader)):\n",
    "                target=target.to(device).unsqueeze(1)\n",
    "                data=data.to(device)\n",
    "                #target=target.unsqueeze(1)\n",
    "                # Clear gradients\n",
    "                optimizer.zero_grad()\n",
    "                # Predicted outputs are log probabilities\n",
    "                output = model(data)\n",
    "                # Loss and backpropagation of gradients\n",
    "                loss=criterion(output,(target.float()))\n",
    "                loss.backward()\n",
    "\n",
    "                # Update the parameters\n",
    "                optimizer.step()\n",
    "                # Track train loss by multiplying average loss by number of examples in batch\n",
    "                train_loss += loss.item() \n",
    "                # Calculate accuracy by finding max log probability\n",
    "                #_, pred = torch.max(output, dim=1)\n",
    "                #correct_tensor = pred.eq(target.data.view_as(pred))\n",
    "                # Need to convert correct tensor from int to float to average\n",
    "                #accuracy = torch.mean(correct_tensor.type(torch.FloatTensor))\n",
    "                # Multiply average accuracy times the number of examples in batch\n",
    "                #train_acc += accuracy.item() * data.size(0)\n",
    "\n",
    "                # Track training progress\n",
    "                print(\n",
    "                    f'Epoch: {epoch}\\t{100 * (ii + 1) / len(dataLoader):.2f}% complete. {timer() - start:.2f} seconds elapsed in epoch.',\n",
    "                    end='\\r')\n",
    "            model.epochs += 1\n",
    "            # After training loops ends, start validation\n",
    "            if(epoch%2==0):\n",
    "                    # Don't need to keep track of gradients\n",
    "                with torch.no_grad():\n",
    "                    # Set to evaluation mode\n",
    "                    model.eval()\n",
    "\n",
    "                    # Validation loop\n",
    "                    for data, target in cvLoader:\n",
    "                        # Tensors to gpu\n",
    "                        target=target.to(device).unsqueeze(1)\n",
    "                        data = data.to(device)\n",
    "                        # Forward pass\n",
    "                        output = model(data)\n",
    "\n",
    "                        # Validation loss\n",
    "                        loss=criterion(output,target.float())\n",
    "                        # Multiply average loss times the number of examples in batch\n",
    "                        valid_loss += loss.item()\n",
    "                        # Calculate validation accuracy\n",
    "                        \n",
    "\n",
    "                    # Calculate average losses\n",
    "                    train_loss = train_loss / len(dataLoader)\n",
    "                    valid_loss = valid_loss / len(cvLoader)\n",
    "\n",
    "                    # Calculate average accuracy\n",
    "                    #train_acc = train_acc / len(train_loader.dataset)\n",
    "                    #valid_acc = valid_acc / len(valid_loader.dataset)\n",
    "\n",
    "                    history.append([train_loss, valid_loss,scheduler.get_lr()[0],model.epochs])\n",
    "\n",
    "                    # Print training and validation results\n",
    "                    if (epoch + 1) % print_every == 0:\n",
    "                        print(\n",
    "                            f'\\nEpoch: {epoch} \\tTraining Loss: {train_loss:.4f} \\tValidation Loss: {valid_loss:.4f}'\n",
    "                        )\n",
    "                        print('lr:', scheduler.get_lr()[0])\n",
    "                        #print(\n",
    "                        #    f'\\t\\tTraining Accuracy: {100 * train_acc:.2f}%\\t Validation Accuracy: {100 * valid_acc:.2f}%'\n",
    "                        #)\n",
    "\n",
    "                    # Save the model if validation loss decreases\n",
    "                    if valid_loss < valid_loss_min:\n",
    "                        # Save model\n",
    "                        torch.save(model.state_dict(), save_file_name)\n",
    "                        torch.save(model,\"CovidNetModel\")\n",
    "                        # Track improvement\n",
    "                        epochs_no_improve = 0\n",
    "                        valid_loss_min = valid_loss\n",
    "                        best_epoch = epoch\n",
    "\n",
    "                    # Otherwise increment count of epochs with no improvement\n",
    "                    else:\n",
    "                        epochs_no_improve += 1\n",
    "                        # Trigger early stopping\n",
    "                        if epochs_no_improve >= max_epochs_stop:\n",
    "                            print(f'\\nEarly Stopping! Total epochs: {epoch}. Best epoch: {best_epoch} with loss: {valid_loss_min:.2f}')\n",
    "                            total_time = timer() - overall_start\n",
    "                            print(f'{total_time:.2f} total seconds elapsed. {total_time / (epoch+1):.2f} seconds per epoch.')\n",
    "\n",
    "                            # Load the best state dict\n",
    "                            model.load_state_dict(torch.load(save_file_name))\n",
    "                            # Attach the optimizer\n",
    "                            model.optimizer = optimizer\n",
    "\n",
    "                            # Format history\n",
    "                            history = pd.DataFrame(history,columns=['train_loss', 'valid_loss','Learning_rate','epochs'])\n",
    "                            return model,history\n",
    "            scheduler.step()\n",
    "        # Attach the optimizer\n",
    "        model.optimizer = optimizer\n",
    "        # Record overall time and print out stats\n",
    "        total_time = timer() - overall_start\n",
    "        print(f'\\nBest epoch: {best_epoch} with loss: {valid_loss_min:.2f} ')\n",
    "        print(f'{total_time:.2f} total seconds elapsed. {total_time / (epoch+1):.2f} seconds per epoch.')\n",
    "        # Format history\n",
    "        history = pd.DataFrame(history,columns=['train_loss', 'valid_loss','Learning_rate','epochs'])\n",
    "        return model,history\n",
    "def plotLoss(history):\n",
    "    plt.figure(figsize=(8, 6))\n",
    "    for c in ['train_loss', 'valid_loss']:\n",
    "        plt.plot(history['epochs'],history[c],label=c)\n",
    "        plt.legend()\n",
    "        plt.xlabel('no of epochs')\n",
    "        plt.ylabel('MSE Losses')\n",
    "        plt.title('Training and Validation Losses')\n",
    "def saveHistory(fileName,history):\n",
    "    history.to_pickle(fileName)\n",
    "def retriveHistory(fileName):\n",
    "    history=pd.read_pickle(fileName)\n",
    "    return history"
   ]
  },
  {
   "cell_type": "code",
   "execution_count": 16,
   "metadata": {},
   "outputs": [],
   "source": [
    "baseModel.fc=nn.Sequential(nn.Linear(2048,out_features=1),nn.Sigmoid())"
   ]
  },
  {
   "cell_type": "code",
   "execution_count": 17,
   "metadata": {},
   "outputs": [
    {
     "name": "stdout",
     "output_type": "stream",
     "text": [
      "Starting Training from Scratch.\n",
      "\n",
      "Epoch: 0\t100.00% complete. 26.62 seconds elapsed in epoch.\r"
     ]
    },
    {
     "name": "stderr",
     "output_type": "stream",
     "text": [
      "/opt/conda/lib/python3.7/site-packages/torch/optim/lr_scheduler.py:351: UserWarning: To get the last learning rate computed by the scheduler, please use `get_last_lr()`.\n",
      "  \"please use `get_last_lr()`.\", UserWarning)\n"
     ]
    },
    {
     "name": "stdout",
     "output_type": "stream",
     "text": [
      "\n",
      "Epoch: 0 \tTraining Loss: 0.6387 \tValidation Loss: 0.3946\n",
      "lr: 1e-05\n",
      "Epoch: 2\t100.00% complete. 24.82 seconds elapsed in epoch.\r\n",
      "Epoch: 2 \tTraining Loss: 0.5154 \tValidation Loss: 0.3545\n",
      "lr: 1e-05\n",
      "Epoch: 4\t100.00% complete. 25.28 seconds elapsed in epoch.\r\n",
      "Epoch: 4 \tTraining Loss: 0.5093 \tValidation Loss: 0.3543\n",
      "lr: 1e-05\n",
      "Epoch: 6\t100.00% complete. 24.93 seconds elapsed in epoch.\r\n",
      "Epoch: 6 \tTraining Loss: 0.5076 \tValidation Loss: 0.3543\n",
      "lr: 1e-05\n",
      "Epoch: 8\t100.00% complete. 24.60 seconds elapsed in epoch.\r\n",
      "Epoch: 8 \tTraining Loss: 0.5064 \tValidation Loss: 0.3549\n",
      "lr: 1e-05\n",
      "Epoch: 10\t100.00% complete. 23.93 seconds elapsed in epoch.\r\n",
      "Epoch: 10 \tTraining Loss: 0.5062 \tValidation Loss: 0.3549\n",
      "lr: 1e-05\n",
      "Epoch: 12\t100.00% complete. 23.85 seconds elapsed in epoch.\r\n",
      "Epoch: 12 \tTraining Loss: 0.5060 \tValidation Loss: 0.3549\n",
      "lr: 1e-05\n",
      "Epoch: 14\t100.00% complete. 23.39 seconds elapsed in epoch.\r\n",
      "Epoch: 14 \tTraining Loss: 0.5059 \tValidation Loss: 0.3545\n",
      "lr: 1e-05\n",
      "Epoch: 16\t100.00% complete. 23.48 seconds elapsed in epoch.\r\n",
      "Epoch: 16 \tTraining Loss: 0.5059 \tValidation Loss: 0.3546\n",
      "lr: 1e-05\n",
      "\n",
      "Early Stopping! Total epochs: 16. Best epoch: 6 with loss: 0.35\n",
      "466.20 total seconds elapsed. 27.42 seconds per epoch.\n"
     ]
    },
    {
     "data": {
      "image/png": "[encoded data removed]",
      "text/plain": [
       "<Figure size 576x432 with 1 Axes>"
      ]
     },
     "metadata": {
      "needs_background": "light"
     },
     "output_type": "display_data"
    }
   ],
   "source": [
    "model,history=train(baseModel,1e-5,trainLoader,testLoader,n_epochs=600)\n",
    "plotLoss(history)"
   ]
  },
  {
   "cell_type": "code",
   "execution_count": 18,
   "metadata": {},
   "outputs": [],
   "source": [
    "saveHistory(\"History.pkl\",history)"
   ]
  },
  {
   "cell_type": "code",
   "execution_count": 19,
   "metadata": {},
   "outputs": [],
   "source": [
    "def checkAccuracy(model,cvLoader):\n",
    "    acc=0\n",
    "    with torch.no_grad():\n",
    "        # Set to evaluation mode\n",
    "        model.eval()\n",
    "\n",
    "        # Validation loop\n",
    "        for data, target in cvLoader:\n",
    "            # Tensors to gpu\n",
    "            target=target.to(device).unsqueeze(1)\n",
    "            data = data.to(device)\n",
    "            # Forward pass\n",
    "            output = model(data)\n",
    "            thresh=0.5\n",
    "            acc+=((output.cpu()>thresh).float()==target.cpu().float()).sum().cpu()\n",
    "        acc=float(acc)/ len(testLoader.dataset)\n",
    "        print(acc*100)\n",
    "        return acc\n",
    "\n",
    "    "
   ]
  },
  {
   "cell_type": "code",
   "execution_count": 20,
   "metadata": {},
   "outputs": [
    {
     "name": "stdout",
     "output_type": "stream",
     "text": [
      "94.28571428571428\n"
     ]
    }
   ],
   "source": [
    "acc=checkAccuracy(baseModel,testLoader)"
   ]
  },
  {
   "cell_type": "code",
   "execution_count": null,
   "metadata": {},
   "outputs": [],
   "source": []
  }
 ],
 "metadata": {
  "kernelspec": {
   "display_name": "Python 3",
   "language": "python",
   "name": "python3"
  },
  "language_info": {
   "codemirror_mode": {
    "name": "ipython",
    "version": 3
   },
   "file_extension": ".py",
   "mimetype": "text/x-python",
   "name": "python",
   "nbconvert_exporter": "python",
   "pygments_lexer": "ipython3",
   "version": "3.7.6"
  },
  "widgets": {
   "application/vnd.jupyter.widget-state+json": {
    "state": {
     "1f025ab3a7274e63b406f5a1f5e8f949": {
      "model_module": "@jupyter-widgets/base",
      "model_module_version": "1.2.0",
      "model_name": "LayoutModel",
      "state": {
       "_model_module": "@jupyter-widgets/base",
       "_model_module_version": "1.2.0",
       "_model_name": "LayoutModel",
       "_view_count": null,
       "_view_module": "@jupyter-widgets/base",
       "_view_module_version": "1.2.0",
       "_view_name": "LayoutView",
       "align_content": null,
       "align_items": null,
       "align_self": null,
       "border": null,
       "bottom": null,
       "display": null,
       "flex": null,
       "flex_flow": null,
       "grid_area": null,
       "grid_auto_columns": null,
       "grid_auto_flow": null,
       "grid_auto_rows": null,
       "grid_column": null,
       "grid_gap": null,
       "grid_row": null,
       "grid_template_areas": null,
       "grid_template_columns": null,
       "grid_template_rows": null,
       "height": null,
       "justify_content": null,
       "justify_items": null,
       "left": null,
       "margin": null,
       "max_height": null,
       "max_width": null,
       "min_height": null,
       "min_width": null,
       "object_fit": null,
       "object_position": null,
       "order": null,
       "overflow": null,
       "overflow_x": null,
       "overflow_y": null,
       "padding": null,
       "right": null,
       "top": null,
       "visibility": null,
       "width": null
      }
     },
     "3807416bf2a34fbd97796faa43c189b1": {
      "model_module": "@jupyter-widgets/base",
      "model_module_version": "1.2.0",
      "model_name": "LayoutModel",
      "state": {
       "_model_module": "@jupyter-widgets/base",
       "_model_module_version": "1.2.0",
       "_model_name": "LayoutModel",
       "_view_count": null,
       "_view_module": "@jupyter-widgets/base",
       "_view_module_version": "1.2.0",
       "_view_name": "LayoutView",
       "align_content": null,
       "align_items": null,
       "align_self": null,
       "border": null,
       "bottom": null,
       "display": null,
       "flex": null,
       "flex_flow": null,
       "grid_area": null,
       "grid_auto_columns": null,
       "grid_auto_flow": null,
       "grid_auto_rows": null,
       "grid_column": null,
       "grid_gap": null,
       "grid_row": null,
       "grid_template_areas": null,
       "grid_template_columns": null,
       "grid_template_rows": null,
       "height": null,
       "justify_content": null,
       "justify_items": null,
       "left": null,
       "margin": null,
       "max_height": null,
       "max_width": null,
       "min_height": null,
       "min_width": null,
       "object_fit": null,
       "object_position": null,
       "order": null,
       "overflow": null,
       "overflow_x": null,
       "overflow_y": null,
       "padding": null,
       "right": null,
       "top": null,
       "visibility": null,
       "width": null
      }
     },
     "3fbb62077e2f4b9d8064c9ab0e4baaa6": {
      "model_module": "@jupyter-widgets/controls",
      "model_module_version": "1.5.0",
      "model_name": "FloatProgressModel",
      "state": {
       "_dom_classes": [],
       "_model_module": "@jupyter-widgets/controls",
       "_model_module_version": "1.5.0",
       "_model_name": "FloatProgressModel",
       "_view_count": null,
       "_view_module": "@jupyter-widgets/controls",
       "_view_module_version": "1.5.0",
       "_view_name": "ProgressView",
       "bar_style": "success",
       "description": "100%",
       "description_tooltip": null,
       "layout": "IPY_MODEL_3807416bf2a34fbd97796faa43c189b1",
       "max": 356082095.0,
       "min": 0.0,
       "orientation": "horizontal",
       "style": "IPY_MODEL_f61eba310a344aa382c68bcbfa666fda",
       "value": 356082095.0
      }
     },
     "48729430dcd842ce91c1c4607ab0796c": {
      "model_module": "@jupyter-widgets/base",
      "model_module_version": "1.2.0",
      "model_name": "LayoutModel",
      "state": {
       "_model_module": "@jupyter-widgets/base",
       "_model_module_version": "1.2.0",
       "_model_name": "LayoutModel",
       "_view_count": null,
       "_view_module": "@jupyter-widgets/base",
       "_view_module_version": "1.2.0",
       "_view_name": "LayoutView",
       "align_content": null,
       "align_items": null,
       "align_self": null,
       "border": null,
       "bottom": null,
       "display": null,
       "flex": null,
       "flex_flow": null,
       "grid_area": null,
       "grid_auto_columns": null,
       "grid_auto_flow": null,
       "grid_auto_rows": null,
       "grid_column": null,
       "grid_gap": null,
       "grid_row": null,
       "grid_template_areas": null,
       "grid_template_columns": null,
       "grid_template_rows": null,
       "height": null,
       "justify_content": null,
       "justify_items": null,
       "left": null,
       "margin": null,
       "max_height": null,
       "max_width": null,
       "min_height": null,
       "min_width": null,
       "object_fit": null,
       "object_position": null,
       "order": null,
       "overflow": null,
       "overflow_x": null,
       "overflow_y": null,
       "padding": null,
       "right": null,
       "top": null,
       "visibility": null,
       "width": null
      }
     },
     "a6711d7e6cee481c99bfc57e97697d65": {
      "model_module": "@jupyter-widgets/controls",
      "model_module_version": "1.5.0",
      "model_name": "HTMLModel",
      "state": {
       "_dom_classes": [],
       "_model_module": "@jupyter-widgets/controls",
       "_model_module_version": "1.5.0",
       "_model_name": "HTMLModel",
       "_view_count": null,
       "_view_module": "@jupyter-widgets/controls",
       "_view_module_version": "1.5.0",
       "_view_name": "HTMLView",
       "description": "",
       "description_tooltip": null,
       "layout": "IPY_MODEL_48729430dcd842ce91c1c4607ab0796c",
       "placeholder": "​",
       "style": "IPY_MODEL_fde30cf258224253ad4eea9312a7022f",
       "value": " 340M/340M [00:07&lt;00:00, 49.0MB/s]"
      }
     },
     "c3ecf6b59e6f47c99a5b4d184dac3370": {
      "model_module": "@jupyter-widgets/controls",
      "model_module_version": "1.5.0",
      "model_name": "HBoxModel",
      "state": {
       "_dom_classes": [],
       "_model_module": "@jupyter-widgets/controls",
       "_model_module_version": "1.5.0",
       "_model_name": "HBoxModel",
       "_view_count": null,
       "_view_module": "@jupyter-widgets/controls",
       "_view_module_version": "1.5.0",
       "_view_name": "HBoxView",
       "box_style": "",
       "children": [
        "IPY_MODEL_3fbb62077e2f4b9d8064c9ab0e4baaa6",
        "IPY_MODEL_a6711d7e6cee481c99bfc57e97697d65"
       ],
       "layout": "IPY_MODEL_1f025ab3a7274e63b406f5a1f5e8f949"
      }
     },
     "f61eba310a344aa382c68bcbfa666fda": {
      "model_module": "@jupyter-widgets/controls",
      "model_module_version": "1.5.0",
      "model_name": "ProgressStyleModel",
      "state": {
       "_model_module": "@jupyter-widgets/controls",
       "_model_module_version": "1.5.0",
       "_model_name": "ProgressStyleModel",
       "_view_count": null,
       "_view_module": "@jupyter-widgets/base",
       "_view_module_version": "1.2.0",
       "_view_name": "StyleView",
       "bar_color": null,
       "description_width": "initial"
      }
     },
     "fde30cf258224253ad4eea9312a7022f": {
      "model_module": "@jupyter-widgets/controls",
      "model_module_version": "1.5.0",
      "model_name": "DescriptionStyleModel",
      "state": {
       "_model_module": "@jupyter-widgets/controls",
       "_model_module_version": "1.5.0",
       "_model_name": "DescriptionStyleModel",
       "_view_count": null,
       "_view_module": "@jupyter-widgets/base",
       "_view_module_version": "1.2.0",
       "_view_name": "StyleView",
       "description_width": ""
      }
     }
    },
    "version_major": 2,
    "version_minor": 0
   }
  }
 },
 "nbformat": 4,
 "nbformat_minor": 4
}
